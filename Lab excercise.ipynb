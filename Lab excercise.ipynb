{
 "cells": [
  {
   "cell_type": "markdown",
   "metadata": {},
   "source": [
    "### A nice Python function to help read data"
   ]
  },
  {
   "cell_type": "markdown",
   "metadata": {},
   "source": [
    "We still need our helper function read_traffic"
   ]
  },
  {
   "cell_type": "code",
   "execution_count": 12,
   "metadata": {
    "collapsed": false
   },
   "outputs": [],
   "source": [
    "import subprocess\n",
    "import datetime\n",
    "import pandas as pd\n",
    "\n",
    "def read_traffic(filename, fields=[], display_filter=\"\", \n",
    "              timeseries=False, strict=False):\n",
    "    \"\"\" Read PCAP file into Pandas DataFrame object. \n",
    "    Uses tshark command-line tool from Wireshark.\n",
    "\n",
    "    filename:       Name or full path of the PCAP file to read\n",
    "    fields:         List of fields to include as columns\n",
    "    display_filter: Additional filter to restrict frames\n",
    "    strict:         Only include frames that contain all given fields \n",
    "                    (Default: false)\n",
    "    timeseries:     Create DatetimeIndex from frame.time_epoch \n",
    "                    (Default: false)\n",
    "\n",
    "    Syntax for fields and display_filter is specified in\n",
    "    Wireshark's Display Filter Reference:\n",
    " \n",
    "      http://www.wireshark.org/docs/dfref/\n",
    "    \"\"\"\n",
    "    if timeseries:\n",
    "        fields = [\"frame.time_epoch\"] + fields\n",
    "    fieldspec = \" \".join(\"-e %s\" % f for f in fields)\n",
    "\n",
    "    display_filters = fields if strict else []\n",
    "    if display_filter:\n",
    "        display_filters.append(display_filter)\n",
    "    filterspec = \"-Y '%s'\" % \" and \".join(f for f in display_filters)\n",
    "\n",
    "    options = \"-r %s -n -T fields -Eheader=y\" % filename\n",
    "    cmd = \"tshark %s %s %s\" % (options, filterspec, fieldspec)\n",
    "    #print cmd\n",
    "    proc = subprocess.Popen(cmd, shell = True, \n",
    "                                 stdout=subprocess.PIPE)\n",
    "    if timeseries:\n",
    "        df = pd.read_table(proc.stdout, \n",
    "                        index_col = \"frame.time_epoch\", \n",
    "                        parse_dates=True, \n",
    "                        date_parser=datetime.datetime.fromtimestamp)\n",
    "    else:\n",
    "        df = pd.read_table(proc.stdout)\n",
    "    return df"
   ]
  },
  {
   "cell_type": "markdown",
   "metadata": {},
   "source": [
    "## Analyze the file 1n1_ovs1.pcap"
   ]
  },
  {
   "cell_type": "code",
   "execution_count": 13,
   "metadata": {
    "collapsed": false,
    "scrolled": true
   },
   "outputs": [
    {
     "data": {
      "text/html": [
       "<div>\n",
       "<table border=\"1\" class=\"dataframe\">\n",
       "  <thead>\n",
       "    <tr style=\"text-align: right;\">\n",
       "      <th></th>\n",
       "      <th>tcp.stream</th>\n",
       "      <th>ip.src</th>\n",
       "      <th>tcp.srcport</th>\n",
       "      <th>ip.dst</th>\n",
       "      <th>tcp.dstport</th>\n",
       "      <th>tcp.len</th>\n",
       "      <th>tcp.time_delta</th>\n",
       "    </tr>\n",
       "    <tr>\n",
       "      <th>frame.time_epoch</th>\n",
       "      <th></th>\n",
       "      <th></th>\n",
       "      <th></th>\n",
       "      <th></th>\n",
       "      <th></th>\n",
       "      <th></th>\n",
       "      <th></th>\n",
       "    </tr>\n",
       "  </thead>\n",
       "  <tbody>\n",
       "    <tr>\n",
       "      <th>2016-10-03 16:31:00.018406</th>\n",
       "      <td>0</td>\n",
       "      <td>10.10.10.3</td>\n",
       "      <td>38224</td>\n",
       "      <td>10.10.10.1</td>\n",
       "      <td>1701</td>\n",
       "      <td>0</td>\n",
       "      <td>0.000000</td>\n",
       "    </tr>\n",
       "    <tr>\n",
       "      <th>2016-10-03 16:31:00.018906</th>\n",
       "      <td>0</td>\n",
       "      <td>10.10.10.1</td>\n",
       "      <td>1701</td>\n",
       "      <td>10.10.10.3</td>\n",
       "      <td>38224</td>\n",
       "      <td>0</td>\n",
       "      <td>0.000500</td>\n",
       "    </tr>\n",
       "    <tr>\n",
       "      <th>2016-10-03 16:31:00.022640</th>\n",
       "      <td>0</td>\n",
       "      <td>10.10.10.3</td>\n",
       "      <td>38224</td>\n",
       "      <td>10.10.10.1</td>\n",
       "      <td>1701</td>\n",
       "      <td>0</td>\n",
       "      <td>0.003734</td>\n",
       "    </tr>\n",
       "    <tr>\n",
       "      <th>2016-10-03 16:31:00.023226</th>\n",
       "      <td>0</td>\n",
       "      <td>10.10.10.1</td>\n",
       "      <td>1701</td>\n",
       "      <td>10.10.10.3</td>\n",
       "      <td>38224</td>\n",
       "      <td>1448</td>\n",
       "      <td>0.000586</td>\n",
       "    </tr>\n",
       "    <tr>\n",
       "      <th>2016-10-03 16:31:00.023750</th>\n",
       "      <td>0</td>\n",
       "      <td>10.10.10.3</td>\n",
       "      <td>38224</td>\n",
       "      <td>10.10.10.1</td>\n",
       "      <td>1701</td>\n",
       "      <td>0</td>\n",
       "      <td>0.000524</td>\n",
       "    </tr>\n",
       "  </tbody>\n",
       "</table>\n",
       "</div>"
      ],
      "text/plain": [
       "                            tcp.stream      ip.src  tcp.srcport      ip.dst  \\\n",
       "frame.time_epoch                                                              \n",
       "2016-10-03 16:31:00.018406           0  10.10.10.3        38224  10.10.10.1   \n",
       "2016-10-03 16:31:00.018906           0  10.10.10.1         1701  10.10.10.3   \n",
       "2016-10-03 16:31:00.022640           0  10.10.10.3        38224  10.10.10.1   \n",
       "2016-10-03 16:31:00.023226           0  10.10.10.1         1701  10.10.10.3   \n",
       "2016-10-03 16:31:00.023750           0  10.10.10.3        38224  10.10.10.1   \n",
       "\n",
       "                            tcp.dstport  tcp.len  tcp.time_delta  \n",
       "frame.time_epoch                                                  \n",
       "2016-10-03 16:31:00.018406         1701        0        0.000000  \n",
       "2016-10-03 16:31:00.018906        38224        0        0.000500  \n",
       "2016-10-03 16:31:00.022640         1701        0        0.003734  \n",
       "2016-10-03 16:31:00.023226        38224     1448        0.000586  \n",
       "2016-10-03 16:31:00.023750         1701        0        0.000524  "
      ]
     },
     "execution_count": 13,
     "metadata": {},
     "output_type": "execute_result"
    }
   ],
   "source": [
    "fields=[\"tcp.stream\", \"ip.src\", \"tcp.srcport\", \"ip.dst\", \"tcp.dstport\", \"tcp.len\", \"tcp.time_delta\"]\n",
    "ts=read_traffic(\"1n1_ovs1.pcap\", fields, timeseries=True, strict=True)\n",
    "ts.head()"
   ]
  },
  {
   "cell_type": "code",
   "execution_count": 14,
   "metadata": {
    "collapsed": false
   },
   "outputs": [
    {
     "data": {
      "text/html": [
       "<div>\n",
       "<table border=\"1\" class=\"dataframe\">\n",
       "  <thead>\n",
       "    <tr style=\"text-align: right;\">\n",
       "      <th></th>\n",
       "      <th>tcp.stream</th>\n",
       "      <th>ip.src</th>\n",
       "      <th>tcp.srcport</th>\n",
       "      <th>ip.dst</th>\n",
       "      <th>tcp.dstport</th>\n",
       "      <th>tcp.len</th>\n",
       "      <th>tcp.time_delta</th>\n",
       "      <th>capture.time</th>\n",
       "    </tr>\n",
       "    <tr>\n",
       "      <th>frame.time_epoch</th>\n",
       "      <th></th>\n",
       "      <th></th>\n",
       "      <th></th>\n",
       "      <th></th>\n",
       "      <th></th>\n",
       "      <th></th>\n",
       "      <th></th>\n",
       "      <th></th>\n",
       "    </tr>\n",
       "  </thead>\n",
       "  <tbody>\n",
       "    <tr>\n",
       "      <th>2016-10-03 16:31:00.018406</th>\n",
       "      <td>0</td>\n",
       "      <td>10.10.10.3</td>\n",
       "      <td>38224</td>\n",
       "      <td>10.10.10.1</td>\n",
       "      <td>1701</td>\n",
       "      <td>0</td>\n",
       "      <td>0.000000</td>\n",
       "      <td>2016-10-03 16:31:00.018406</td>\n",
       "    </tr>\n",
       "    <tr>\n",
       "      <th>2016-10-03 16:31:00.018906</th>\n",
       "      <td>0</td>\n",
       "      <td>10.10.10.1</td>\n",
       "      <td>1701</td>\n",
       "      <td>10.10.10.3</td>\n",
       "      <td>38224</td>\n",
       "      <td>0</td>\n",
       "      <td>0.000500</td>\n",
       "      <td>2016-10-03 16:31:00.018906</td>\n",
       "    </tr>\n",
       "    <tr>\n",
       "      <th>2016-10-03 16:31:00.022640</th>\n",
       "      <td>0</td>\n",
       "      <td>10.10.10.3</td>\n",
       "      <td>38224</td>\n",
       "      <td>10.10.10.1</td>\n",
       "      <td>1701</td>\n",
       "      <td>0</td>\n",
       "      <td>0.003734</td>\n",
       "      <td>2016-10-03 16:31:00.022640</td>\n",
       "    </tr>\n",
       "    <tr>\n",
       "      <th>2016-10-03 16:31:00.023226</th>\n",
       "      <td>0</td>\n",
       "      <td>10.10.10.1</td>\n",
       "      <td>1701</td>\n",
       "      <td>10.10.10.3</td>\n",
       "      <td>38224</td>\n",
       "      <td>1448</td>\n",
       "      <td>0.000586</td>\n",
       "      <td>2016-10-03 16:31:00.023226</td>\n",
       "    </tr>\n",
       "    <tr>\n",
       "      <th>2016-10-03 16:31:00.023750</th>\n",
       "      <td>0</td>\n",
       "      <td>10.10.10.3</td>\n",
       "      <td>38224</td>\n",
       "      <td>10.10.10.1</td>\n",
       "      <td>1701</td>\n",
       "      <td>0</td>\n",
       "      <td>0.000524</td>\n",
       "      <td>2016-10-03 16:31:00.023750</td>\n",
       "    </tr>\n",
       "  </tbody>\n",
       "</table>\n",
       "</div>"
      ],
      "text/plain": [
       "                            tcp.stream      ip.src  tcp.srcport      ip.dst  \\\n",
       "frame.time_epoch                                                              \n",
       "2016-10-03 16:31:00.018406           0  10.10.10.3        38224  10.10.10.1   \n",
       "2016-10-03 16:31:00.018906           0  10.10.10.1         1701  10.10.10.3   \n",
       "2016-10-03 16:31:00.022640           0  10.10.10.3        38224  10.10.10.1   \n",
       "2016-10-03 16:31:00.023226           0  10.10.10.1         1701  10.10.10.3   \n",
       "2016-10-03 16:31:00.023750           0  10.10.10.3        38224  10.10.10.1   \n",
       "\n",
       "                            tcp.dstport  tcp.len  tcp.time_delta  \\\n",
       "frame.time_epoch                                                   \n",
       "2016-10-03 16:31:00.018406         1701        0        0.000000   \n",
       "2016-10-03 16:31:00.018906        38224        0        0.000500   \n",
       "2016-10-03 16:31:00.022640         1701        0        0.003734   \n",
       "2016-10-03 16:31:00.023226        38224     1448        0.000586   \n",
       "2016-10-03 16:31:00.023750         1701        0        0.000524   \n",
       "\n",
       "                                         capture.time  \n",
       "frame.time_epoch                                       \n",
       "2016-10-03 16:31:00.018406 2016-10-03 16:31:00.018406  \n",
       "2016-10-03 16:31:00.018906 2016-10-03 16:31:00.018906  \n",
       "2016-10-03 16:31:00.022640 2016-10-03 16:31:00.022640  \n",
       "2016-10-03 16:31:00.023226 2016-10-03 16:31:00.023226  \n",
       "2016-10-03 16:31:00.023750 2016-10-03 16:31:00.023750  "
      ]
     },
     "execution_count": 14,
     "metadata": {},
     "output_type": "execute_result"
    }
   ],
   "source": [
    "import numpy as np\n",
    "ts['capture.time']=ts.index.to_datetime()\n",
    "ts.head()"
   ]
  },
  {
   "cell_type": "markdown",
   "metadata": {},
   "source": [
    "Now, we can group packets into streams."
   ]
  },
  {
   "cell_type": "code",
   "execution_count": 15,
   "metadata": {
    "collapsed": false
   },
   "outputs": [],
   "source": [
    "grouped=ts.groupby(\"tcp.stream\")\n",
    "#grouped[\"capture.time\"] = pd.to_datetime(grouped[\"capture.time\"])"
   ]
  },
  {
   "cell_type": "markdown",
   "metadata": {
    "collapsed": false
   },
   "source": [
    "We then use group object's agg function to generate a new data frame, which is frame based. \n",
    "\n",
    "Note that we assume each stream's source ip, source port, destination ip, destination port are the same with those in the stream's first packet. It may not be 100% accurate in real-world."
   ]
  },
  {
   "cell_type": "code",
   "execution_count": 16,
   "metadata": {
    "collapsed": false,
    "scrolled": true
   },
   "outputs": [
    {
     "data": {
      "text/html": [
       "<div>\n",
       "<table border=\"1\" class=\"dataframe\">\n",
       "  <thead>\n",
       "    <tr>\n",
       "      <th></th>\n",
       "      <th>tcp.len</th>\n",
       "      <th>ip.dst</th>\n",
       "      <th>tcp.srcport</th>\n",
       "      <th>tcp.time_delta</th>\n",
       "      <th>tcp.dstport</th>\n",
       "      <th>ip.src</th>\n",
       "      <th>duration</th>\n",
       "      <th>packets</th>\n",
       "    </tr>\n",
       "    <tr>\n",
       "      <th></th>\n",
       "      <th>sum</th>\n",
       "      <th>&lt;lambda&gt;</th>\n",
       "      <th>&lt;lambda&gt;</th>\n",
       "      <th>mean</th>\n",
       "      <th>&lt;lambda&gt;</th>\n",
       "      <th>&lt;lambda&gt;</th>\n",
       "      <th></th>\n",
       "      <th></th>\n",
       "    </tr>\n",
       "    <tr>\n",
       "      <th>tcp.stream</th>\n",
       "      <th></th>\n",
       "      <th></th>\n",
       "      <th></th>\n",
       "      <th></th>\n",
       "      <th></th>\n",
       "      <th></th>\n",
       "      <th></th>\n",
       "      <th></th>\n",
       "    </tr>\n",
       "  </thead>\n",
       "  <tbody>\n",
       "    <tr>\n",
       "      <th>0</th>\n",
       "      <td>7345</td>\n",
       "      <td>10.10.10.1</td>\n",
       "      <td>38224</td>\n",
       "      <td>0.371260</td>\n",
       "      <td>1701</td>\n",
       "      <td>10.10.10.3</td>\n",
       "      <td>8.167714</td>\n",
       "      <td>22</td>\n",
       "    </tr>\n",
       "    <tr>\n",
       "      <th>1</th>\n",
       "      <td>1153</td>\n",
       "      <td>10.10.10.1</td>\n",
       "      <td>49178</td>\n",
       "      <td>0.024916</td>\n",
       "      <td>1700</td>\n",
       "      <td>10.10.10.3</td>\n",
       "      <td>0.249155</td>\n",
       "      <td>10</td>\n",
       "    </tr>\n",
       "    <tr>\n",
       "      <th>2</th>\n",
       "      <td>7345</td>\n",
       "      <td>10.10.10.3</td>\n",
       "      <td>53067</td>\n",
       "      <td>0.355309</td>\n",
       "      <td>1700</td>\n",
       "      <td>10.10.10.1</td>\n",
       "      <td>8.172102</td>\n",
       "      <td>23</td>\n",
       "    </tr>\n",
       "    <tr>\n",
       "      <th>3</th>\n",
       "      <td>1153</td>\n",
       "      <td>10.10.10.3</td>\n",
       "      <td>53068</td>\n",
       "      <td>0.025284</td>\n",
       "      <td>1700</td>\n",
       "      <td>10.10.10.1</td>\n",
       "      <td>0.252839</td>\n",
       "      <td>10</td>\n",
       "    </tr>\n",
       "    <tr>\n",
       "      <th>4</th>\n",
       "      <td>3492</td>\n",
       "      <td>10.10.10.1</td>\n",
       "      <td>49179</td>\n",
       "      <td>0.001055</td>\n",
       "      <td>1700</td>\n",
       "      <td>10.10.10.3</td>\n",
       "      <td>0.012659</td>\n",
       "      <td>12</td>\n",
       "    </tr>\n",
       "  </tbody>\n",
       "</table>\n",
       "</div>"
      ],
      "text/plain": [
       "           tcp.len      ip.dst tcp.srcport tcp.time_delta tcp.dstport  \\\n",
       "               sum    <lambda>    <lambda>           mean    <lambda>   \n",
       "tcp.stream                                                              \n",
       "0             7345  10.10.10.1       38224       0.371260        1701   \n",
       "1             1153  10.10.10.1       49178       0.024916        1700   \n",
       "2             7345  10.10.10.3       53067       0.355309        1700   \n",
       "3             1153  10.10.10.3       53068       0.025284        1700   \n",
       "4             3492  10.10.10.1       49179       0.001055        1700   \n",
       "\n",
       "                ip.src  duration packets  \n",
       "              <lambda>                    \n",
       "tcp.stream                                \n",
       "0           10.10.10.3  8.167714      22  \n",
       "1           10.10.10.3  0.249155      10  \n",
       "2           10.10.10.1  8.172102      23  \n",
       "3           10.10.10.1  0.252839      10  \n",
       "4           10.10.10.3  0.012659      12  "
      ]
     },
     "execution_count": 16,
     "metadata": {},
     "output_type": "execute_result"
    }
   ],
   "source": [
    "streams=grouped.agg({'capture.time':[np.min, np.max],\n",
    "            'ip.src':lambda x:x[0],\n",
    "            'tcp.srcport':lambda x:x[0],\n",
    "            'ip.dst':lambda x:x[0],\n",
    "            'tcp.dstport':lambda x: x[0],\n",
    "            'tcp.len':np.sum,\n",
    "            'tcp.time_delta':np.mean})\n",
    "streams[\"duration\"] = streams[\"capture.time\"][\"amax\"].sub(streams[\"capture.time\"][\"amin\"])\n",
    "streams[\"duration\"] = streams[\"duration\"].apply(lambda x: x.total_seconds())\n",
    "streams = streams.drop(\"capture.time\", axis=1, level=0)\n",
    "streams['packets'] = grouped.count()[\"ip.src\"]\n",
    "\n",
    "streams.head()"
   ]
  },
  {
   "cell_type": "markdown",
   "metadata": {},
   "source": [
    "Change the column names and the index name"
   ]
  },
  {
   "cell_type": "code",
   "execution_count": 17,
   "metadata": {
    "collapsed": false
   },
   "outputs": [
    {
     "data": {
      "text/html": [
       "<div>\n",
       "<table border=\"1\" class=\"dataframe\">\n",
       "  <thead>\n",
       "    <tr style=\"text-align: right;\">\n",
       "      <th></th>\n",
       "      <th>stream_len</th>\n",
       "      <th>dst_ip</th>\n",
       "      <th>src_port</th>\n",
       "      <th>mean_delay</th>\n",
       "      <th>dst_port</th>\n",
       "      <th>src_ip</th>\n",
       "      <th>duration</th>\n",
       "      <th>packets</th>\n",
       "    </tr>\n",
       "    <tr>\n",
       "      <th>stream_id</th>\n",
       "      <th></th>\n",
       "      <th></th>\n",
       "      <th></th>\n",
       "      <th></th>\n",
       "      <th></th>\n",
       "      <th></th>\n",
       "      <th></th>\n",
       "      <th></th>\n",
       "    </tr>\n",
       "  </thead>\n",
       "  <tbody>\n",
       "    <tr>\n",
       "      <th>0</th>\n",
       "      <td>7345</td>\n",
       "      <td>10.10.10.1</td>\n",
       "      <td>38224</td>\n",
       "      <td>0.371260</td>\n",
       "      <td>1701</td>\n",
       "      <td>10.10.10.3</td>\n",
       "      <td>8.167714</td>\n",
       "      <td>22</td>\n",
       "    </tr>\n",
       "    <tr>\n",
       "      <th>1</th>\n",
       "      <td>1153</td>\n",
       "      <td>10.10.10.1</td>\n",
       "      <td>49178</td>\n",
       "      <td>0.024916</td>\n",
       "      <td>1700</td>\n",
       "      <td>10.10.10.3</td>\n",
       "      <td>0.249155</td>\n",
       "      <td>10</td>\n",
       "    </tr>\n",
       "    <tr>\n",
       "      <th>2</th>\n",
       "      <td>7345</td>\n",
       "      <td>10.10.10.3</td>\n",
       "      <td>53067</td>\n",
       "      <td>0.355309</td>\n",
       "      <td>1700</td>\n",
       "      <td>10.10.10.1</td>\n",
       "      <td>8.172102</td>\n",
       "      <td>23</td>\n",
       "    </tr>\n",
       "    <tr>\n",
       "      <th>3</th>\n",
       "      <td>1153</td>\n",
       "      <td>10.10.10.3</td>\n",
       "      <td>53068</td>\n",
       "      <td>0.025284</td>\n",
       "      <td>1700</td>\n",
       "      <td>10.10.10.1</td>\n",
       "      <td>0.252839</td>\n",
       "      <td>10</td>\n",
       "    </tr>\n",
       "    <tr>\n",
       "      <th>4</th>\n",
       "      <td>3492</td>\n",
       "      <td>10.10.10.1</td>\n",
       "      <td>49179</td>\n",
       "      <td>0.001055</td>\n",
       "      <td>1700</td>\n",
       "      <td>10.10.10.3</td>\n",
       "      <td>0.012659</td>\n",
       "      <td>12</td>\n",
       "    </tr>\n",
       "  </tbody>\n",
       "</table>\n",
       "</div>"
      ],
      "text/plain": [
       "           stream_len      dst_ip  src_port  mean_delay  dst_port      src_ip  \\\n",
       "stream_id                                                                       \n",
       "0                7345  10.10.10.1     38224    0.371260      1701  10.10.10.3   \n",
       "1                1153  10.10.10.1     49178    0.024916      1700  10.10.10.3   \n",
       "2                7345  10.10.10.3     53067    0.355309      1700  10.10.10.1   \n",
       "3                1153  10.10.10.3     53068    0.025284      1700  10.10.10.1   \n",
       "4                3492  10.10.10.1     49179    0.001055      1700  10.10.10.3   \n",
       "\n",
       "           duration  packets  \n",
       "stream_id                     \n",
       "0          8.167714       22  \n",
       "1          0.249155       10  \n",
       "2          8.172102       23  \n",
       "3          0.252839       10  \n",
       "4          0.012659       12  "
      ]
     },
     "execution_count": 17,
     "metadata": {},
     "output_type": "execute_result"
    }
   ],
   "source": [
    "streams.columns=['stream_len', 'dst_ip', 'src_port', 'mean_delay','dst_port','src_ip', 'duration', 'packets']\n",
    "streams.index.rename('stream_id', inplace=True)\n",
    "streams.head()"
   ]
  },
  {
   "cell_type": "code",
   "execution_count": 19,
   "metadata": {
    "collapsed": false
   },
   "outputs": [
    {
     "name": "stderr",
     "output_type": "stream",
     "text": [
      "//anaconda/lib/python2.7/site-packages/sklearn/preprocessing/data.py:583: DeprecationWarning: Passing 1d arrays as data is deprecated in 0.17 and will raise ValueError in 0.19. Reshape your data either using X.reshape(-1, 1) if your data has a single feature or X.reshape(1, -1) if it contains a single sample.\n",
      "  warnings.warn(DEPRECATION_MSG_1D, DeprecationWarning)\n",
      "//anaconda/lib/python2.7/site-packages/sklearn/preprocessing/data.py:646: DeprecationWarning: Passing 1d arrays as data is deprecated in 0.17 and will raise ValueError in 0.19. Reshape your data either using X.reshape(-1, 1) if your data has a single feature or X.reshape(1, -1) if it contains a single sample.\n",
      "  warnings.warn(DEPRECATION_MSG_1D, DeprecationWarning)\n"
     ]
    }
   ],
   "source": [
    "from sklearn.cluster import DBSCAN\n",
    "from sklearn import metrics\n",
    "from sklearn.datasets.samples_generator import make_blobs\n",
    "from sklearn.preprocessing import StandardScaler\n",
    "\n",
    "X = streams.as_matrix(columns = [\"stream_len\", \"duration\", \"mean_delay\"])\n",
    "X[:, 0] = StandardScaler().fit_transform(X[:, 0])\n"
   ]
  },
  {
   "cell_type": "code",
   "execution_count": 20,
   "metadata": {
    "collapsed": false
   },
   "outputs": [
    {
     "name": "stdout",
     "output_type": "stream",
     "text": [
      "Estimated number of clusters: 6\n"
     ]
    }
   ],
   "source": [
    "db = DBSCAN(eps=0.3, min_samples=10).fit(X)\n",
    "core_samples_mask = np.zeros_like(db.labels_, dtype=bool)\n",
    "core_samples_mask[db.core_sample_indices_] = True\n",
    "labels = db.labels_\n",
    "\n",
    "# Number of clusters in labels, ignoring noise if present.\n",
    "n_clusters_ = len(set(labels)) - (1 if -1 in labels else 0)\n",
    "\n",
    "print('Estimated number of clusters: %d' % n_clusters_)\n"
   ]
  },
  {
   "cell_type": "code",
   "execution_count": 23,
   "metadata": {
    "collapsed": false
   },
   "outputs": [
    {
     "data": {
      "image/png": "[encoded data removed]",
      "text/plain": [
       "<matplotlib.figure.Figure at 0x118c24250>"
      ]
     },
     "metadata": {},
     "output_type": "display_data"
    }
   ],
   "source": [
    "import matplotlib.pyplot as plt\n",
    "\n",
    "# Black removed and is used for noise instead.\n",
    "unique_labels = set(labels)\n",
    "colors = plt.cm.Spectral(np.linspace(0, 1, len(unique_labels)))\n",
    "for k, col in zip(unique_labels, colors):\n",
    "    if k == -1:\n",
    "        # Black used for noise.\n",
    "        col = 'k'\n",
    "\n",
    "    class_member_mask = (labels == k)\n",
    "\n",
    "    xy = X[class_member_mask & core_samples_mask]\n",
    "    plt.plot(xy[:, 0], xy[:, 1], '.', markerfacecolor=col,\n",
    "             markeredgecolor='k', markersize=14)\n",
    "\n",
    "plt.title('Estimated number of clusters: %d' % n_clusters_)\n",
    "plt.show()"
   ]
  }
 ],
 "metadata": {
  "anaconda-cloud": {},
  "kernelspec": {
   "display_name": "Python [default]",
   "language": "python",
   "name": "python2"
  },
  "language_info": {
   "codemirror_mode": {
    "name": "ipython",
    "version": 2
   },
   "file_extension": ".py",
   "mimetype": "text/x-python",
   "name": "python",
   "nbconvert_exporter": "python",
   "pygments_lexer": "ipython2",
   "version": "2.7.12"
  }
 },
 "nbformat": 4,
 "nbformat_minor": 0
}
